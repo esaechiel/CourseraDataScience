{
 "cells": [
  {
   "cell_type": "markdown",
   "metadata": {},
   "source": [
    "# My Jupyter Notebook on IBM Watson Studio"
   ]
  },
  {
   "cell_type": "markdown",
   "metadata": {},
   "source": [
    "My name is **Sahil Arora**.<br>My desired occupation would be a Particle Physicist."
   ]
  },
  {
   "cell_type": "markdown",
   "metadata": {},
   "source": [
    "*I am interested in Data Science because I want to integrate it with Particle Physics. I am always fascinated by the clever ways to manage gigabytes and terabytes of data and I am keen on learning that.*"
   ]
  },
  {
   "cell_type": "markdown",
   "metadata": {
    "tags": []
   },
   "source": [
    "### In the following cell the written code is supposed to take a name from the user and insert it into a sentence."
   ]
  },
  {
   "cell_type": "code",
   "execution_count": 3,
   "metadata": {},
   "outputs": [
    {
     "name": "stdin",
     "output_type": "stream",
     "text": [
      "What is your name? Sahil\n"
     ]
    },
    {
     "name": "stdout",
     "output_type": "stream",
     "text": [
      "Nice to meet you Sahil.\n"
     ]
    }
   ],
   "source": [
    "name= input(\"What is your name?\")\n",
    "print(\"Nice to meet you \"+name+\".\")"
   ]
  },
  {
   "cell_type": "markdown",
   "metadata": {},
   "source": [
    "Now first of all I will insert a horizontal rule\n",
    "---\n",
    "Here we go\n",
    "\n",
    "Now to demonstrate bullets\n",
    "---\n",
    "- First Item\n",
    "- Second Item\n",
    "- Third item\n",
    "\n",
    "Now I will use numbering\n",
    "---\n",
    "1. Item 1\n",
    "2. Item 2\n",
    "3. Item 3\n",
    "\n",
    "You can see that in the previous cell I used the two functions:\n",
    "---\n",
    "1. **`input`** - to take input from the user \n",
    "2. **`print`** - to display the output to the user"
   ]
  },
  {
   "cell_type": "code",
   "execution_count": null,
   "metadata": {},
   "outputs": [],
   "source": []
  }
 ],
 "metadata": {
  "kernelspec": {
   "display_name": "Python",
   "language": "python",
   "name": "conda-env-python-py"
  },
  "language_info": {
   "codemirror_mode": {
    "name": "ipython",
    "version": 3
   },
   "file_extension": ".py",
   "mimetype": "text/x-python",
   "name": "python",
   "nbconvert_exporter": "python",
   "pygments_lexer": "ipython3",
   "version": "3.7.12"
  }
 },
 "nbformat": 4,
 "nbformat_minor": 4
}
